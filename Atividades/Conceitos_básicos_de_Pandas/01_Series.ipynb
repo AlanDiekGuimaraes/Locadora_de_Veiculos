{
 "cells": [
  {
   "metadata": {},
   "cell_type": "markdown",
   "source": [
    "# Series\n",
    "\n",
    "O primeiro tipo de dado que aprenderemos é a Serie. Vamos importar Pandas e explorar tal objeto.\n",
    "\n",
    "A Serie é muito semelhante a uma matriz NumPy (na verdade, ela é construída em cima do objeto de matriz NumPy). O que diferencia a matriz NumPy de uma Série, é que uma Serie pode ter rótulos de eixos, o que significa que pode ser indexado por um rótulo, em vez de apenas uma localização numérica. Também não precisa manter dados numéricos, ele pode conter qualquer objeto Python arbitrário.\n",
    "\n",
    "Vamos explorar este conceito através de alguns exemplos:"
   ],
   "id": "eb1a006122149d20"
  },
  {
   "metadata": {
    "ExecuteTime": {
     "end_time": "2024-08-04T21:12:05.161769Z",
     "start_time": "2024-08-04T21:12:05.157142Z"
    }
   },
   "cell_type": "code",
   "source": [
    "import pandas as pd\n",
    "import numpy as np"
   ],
   "id": "initial_id",
   "outputs": [],
   "execution_count": 26
  },
  {
   "metadata": {},
   "cell_type": "markdown",
   "source": [
    "### Criando uma Serie\n",
    "Você pode converter uma lista, numpy array ou dicionário para uma série:"
   ],
   "id": "f27fcce62e34b970"
  },
  {
   "metadata": {
    "ExecuteTime": {
     "end_time": "2024-08-04T21:12:05.809865Z",
     "start_time": "2024-08-04T21:12:05.804891Z"
    }
   },
   "cell_type": "code",
   "source": [
    "# Definindo uma lista de rótulos\n",
    "labels = ['ValorA', 'ValorB', 'ValorC']\n",
    "\n",
    "# Definindo uma lista de valores\n",
    "minha_lista = [10, 20, 30]\n",
    "\n",
    "# Convertendo a lista de valores para um array NumPy\n",
    "arr = np.array([minha_lista])\n",
    "\n",
    "# Definindo um dicionário de valores\n",
    "Dicionario = {'Valor1': 10, 'Valor2': 20, 'Valor3': 30}\n",
    "\n"
   ],
   "id": "b448001cb36f8c4d",
   "outputs": [],
   "execution_count": 27
  },
  {
   "metadata": {
    "ExecuteTime": {
     "end_time": "2024-08-04T21:12:06.100526Z",
     "start_time": "2024-08-04T21:12:06.093941Z"
    }
   },
   "cell_type": "code",
   "source": [
    "# Criando uma Serie a partir de uma lista de rótulos\n",
    "pd.Series(labels)\n"
   ],
   "id": "f1725247c8eb7a3d",
   "outputs": [
    {
     "data": {
      "text/plain": [
       "0    ValorA\n",
       "1    ValorB\n",
       "2    ValorC\n",
       "dtype: object"
      ]
     },
     "execution_count": 28,
     "metadata": {},
     "output_type": "execute_result"
    }
   ],
   "execution_count": 28
  },
  {
   "metadata": {},
   "cell_type": "markdown",
   "source": "Atribuindo indices a Serie",
   "id": "efaa276152369ab8"
  },
  {
   "metadata": {
    "ExecuteTime": {
     "end_time": "2024-08-04T21:12:06.546036Z",
     "start_time": "2024-08-04T21:12:06.539428Z"
    }
   },
   "cell_type": "code",
   "source": [
    "# Criando uma Serie a partir de uma lista de rótulos e uma lista de índices\n",
    "pd.Series(data=labels, index=minha_lista)\n"
   ],
   "id": "26b2dfb3bd99e1b0",
   "outputs": [
    {
     "data": {
      "text/plain": [
       "10    ValorA\n",
       "20    ValorB\n",
       "30    ValorC\n",
       "dtype: object"
      ]
     },
     "execution_count": 29,
     "metadata": {},
     "output_type": "execute_result"
    }
   ],
   "execution_count": 29
  },
  {
   "metadata": {
    "ExecuteTime": {
     "end_time": "2024-08-04T21:12:06.828523Z",
     "start_time": "2024-08-04T21:12:06.821860Z"
    }
   },
   "cell_type": "code",
   "source": [
    "# Criando uma Serie a partir de um dicionário\n",
    "pd.Series(Dicionario)\n"
   ],
   "id": "8d008213fff0c7ef",
   "outputs": [
    {
     "data": {
      "text/plain": [
       "Valor1    10\n",
       "Valor2    20\n",
       "Valor3    30\n",
       "dtype: int64"
      ]
     },
     "execution_count": 30,
     "metadata": {},
     "output_type": "execute_result"
    }
   ],
   "execution_count": 30
  },
  {
   "metadata": {
    "ExecuteTime": {
     "end_time": "2024-08-04T21:12:06.996295Z",
     "start_time": "2024-08-04T21:12:06.988680Z"
    }
   },
   "cell_type": "code",
   "source": [
    "# Criando duas Series com índices de países\n",
    "serie1 = pd.Series(data=[1, 2, 3, 4], index=['Brasil', 'Argentina', 'China', 'Estados Unidos'])\n",
    "serie2 = pd.Series(data=[1, 2, 3, 5], index=['Brasil', 'Argentina', 'China', 'Paraguai'])\n",
    "\n",
    "# Somando as duas Series. Onde os índices não coincidem, o resultado será NaN.\n",
    "print(serie1 + serie2)"
   ],
   "id": "993ace204573467b",
   "outputs": [
    {
     "name": "stdout",
     "output_type": "stream",
     "text": [
      "Argentina         4.0\n",
      "Brasil            2.0\n",
      "China             6.0\n",
      "Estados Unidos    NaN\n",
      "Paraguai          NaN\n",
      "dtype: float64\n"
     ]
    }
   ],
   "execution_count": 31
  },
  {
   "metadata": {
    "ExecuteTime": {
     "end_time": "2024-08-04T21:12:07.247709Z",
     "start_time": "2024-08-04T21:12:07.241494Z"
    }
   },
   "cell_type": "code",
   "source": [
    "# Acessando um valor específico na Serie através do índice\n",
    "serie1['Brasil']"
   ],
   "id": "facdf03e184e5c76",
   "outputs": [
    {
     "data": {
      "text/plain": [
       "np.int64(1)"
      ]
     },
     "execution_count": 32,
     "metadata": {},
     "output_type": "execute_result"
    }
   ],
   "execution_count": 32
  },
  {
   "metadata": {
    "ExecuteTime": {
     "end_time": "2024-08-04T21:12:07.453483Z",
     "start_time": "2024-08-04T21:12:07.445602Z"
    }
   },
   "cell_type": "code",
   "source": [
    "# Acessando múltiplos valores na Serie através de uma lista de índices\n",
    "serie1[['Brasil', 'Argentina']]"
   ],
   "id": "1b072205ed0460a3",
   "outputs": [
    {
     "data": {
      "text/plain": [
       "Brasil       1\n",
       "Argentina    2\n",
       "dtype: int64"
      ]
     },
     "execution_count": 33,
     "metadata": {},
     "output_type": "execute_result"
    }
   ],
   "execution_count": 33
  }
 ],
 "metadata": {
  "kernelspec": {
   "display_name": "Python 3",
   "language": "python",
   "name": "python3"
  },
  "language_info": {
   "codemirror_mode": {
    "name": "ipython",
    "version": 2
   },
   "file_extension": ".py",
   "mimetype": "text/x-python",
   "name": "python",
   "nbconvert_exporter": "python",
   "pygments_lexer": "ipython2",
   "version": "2.7.6"
  }
 },
 "nbformat": 4,
 "nbformat_minor": 5
}
