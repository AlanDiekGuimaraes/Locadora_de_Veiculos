{
 "cells": [
  {
   "metadata": {},
   "cell_type": "markdown",
   "source": [
    "# DataFrames\n",
    "\n",
    "DataFrame é o elemeto mais importante dos Pandas e são diretamente inspirados pela linguagem de programação R. Podemos pensar em um DataFrame como um monte de objetos da série juntos para compartilhar o mesmo índice. Vamos usar Pandas para explorar esse tópico!"
   ],
   "id": "d276d79f1b5272f5"
  },
  {
   "metadata": {
    "ExecuteTime": {
     "end_time": "2024-08-04T23:16:21.341195Z",
     "start_time": "2024-08-04T23:16:21.336669Z"
    }
   },
   "cell_type": "code",
   "source": [
    "import pandas as pd\n",
    "import numpy as np\n",
    "from numpy.random import randn"
   ],
   "id": "initial_id",
   "outputs": [],
   "execution_count": 42
  },
  {
   "metadata": {
    "ExecuteTime": {
     "end_time": "2024-08-04T23:16:21.934585Z",
     "start_time": "2024-08-04T23:16:21.925079Z"
    }
   },
   "cell_type": "code",
   "source": [
    "# Criando um DataFrame com dados aleatórios gerados pela função randn de NumPy\n",
    "# O DataFrame terá 5 linhas e 4 colunas, com índices e nomes de colunas especificados\n",
    "dataframe = pd.DataFrame(np.random.randn(5, 4), \n",
    "                         index=['linha1', 'linha2', 'linha3', 'linha4', 'linha5'], \n",
    "                         columns='coluna1 coluna2 coluna3 coluna4'.split()) # Definindo uma string com espaços em branco e Usando o método split() para dividir a string em uma lista de substrings\n",
    "\n",
    "# Exibindo o DataFrame\n",
    "print(dataframe)\n"
   ],
   "id": "778f30fb48344bc5",
   "outputs": [
    {
     "name": "stdout",
     "output_type": "stream",
     "text": [
      "         coluna1   coluna2   coluna3   coluna4\n",
      "linha1  0.344133  1.106041 -1.140222  0.860656\n",
      "linha2  0.022126 -0.676783 -1.259059 -0.572490\n",
      "linha3 -1.484410 -1.524685  0.719032  1.289502\n",
      "linha4  0.201673 -0.334583  0.460284  0.577722\n",
      "linha5  0.078063 -0.536541 -0.893572 -1.332718\n"
     ]
    }
   ],
   "execution_count": 43
  },
  {
   "metadata": {
    "ExecuteTime": {
     "end_time": "2024-08-04T23:16:22.451213Z",
     "start_time": "2024-08-04T23:16:22.443522Z"
    }
   },
   "cell_type": "code",
   "source": [
    "print(dataframe['coluna1']) # Imprimindo no formato Series\n",
    "print('-'* 30)\n",
    "print(dataframe[['coluna1']]) # Imprimindo no formato de DataFrame"
   ],
   "id": "c765944bad40fa7e",
   "outputs": [
    {
     "name": "stdout",
     "output_type": "stream",
     "text": [
      "linha1    0.344133\n",
      "linha2    0.022126\n",
      "linha3   -1.484410\n",
      "linha4    0.201673\n",
      "linha5    0.078063\n",
      "Name: coluna1, dtype: float64\n",
      "------------------------------\n",
      "         coluna1\n",
      "linha1  0.344133\n",
      "linha2  0.022126\n",
      "linha3 -1.484410\n",
      "linha4  0.201673\n",
      "linha5  0.078063\n"
     ]
    }
   ],
   "execution_count": 44
  },
  {
   "metadata": {
    "ExecuteTime": {
     "end_time": "2024-08-04T23:16:22.981599Z",
     "start_time": "2024-08-04T23:16:22.973329Z"
    }
   },
   "cell_type": "code",
   "source": [
    "dataframe['soma1+2'] = dataframe['coluna1'] + dataframe['coluna2'] # Adicionando uma nova coluna com o nome soma e fazendo a soma das colunas 1 e 2\n",
    "print(dataframe)"
   ],
   "id": "95f0b8fac30324c1",
   "outputs": [
    {
     "name": "stdout",
     "output_type": "stream",
     "text": [
      "         coluna1   coluna2   coluna3   coluna4   soma1+2\n",
      "linha1  0.344133  1.106041 -1.140222  0.860656  1.450174\n",
      "linha2  0.022126 -0.676783 -1.259059 -0.572490 -0.654657\n",
      "linha3 -1.484410 -1.524685  0.719032  1.289502 -3.009095\n",
      "linha4  0.201673 -0.334583  0.460284  0.577722 -0.132910\n",
      "linha5  0.078063 -0.536541 -0.893572 -1.332718 -0.458477\n"
     ]
    }
   ],
   "execution_count": 45
  },
  {
   "metadata": {
    "ExecuteTime": {
     "end_time": "2024-08-04T23:16:23.596407Z",
     "start_time": "2024-08-04T23:16:23.584621Z"
    }
   },
   "cell_type": "code",
   "source": [
    "# Deletando a coluna 'coluna3' do DataFrame e salvando no dataframe original\n",
    "del dataframe['coluna3']\n",
    "# Removendo a coluna 'coluna2' do DataFrame utilizando o método drop. \n",
    "# O parâmetro 'axis=1' indica que estamos removendo uma coluna (e não uma linha) OBS:\n",
    "# Por padrão, drop retorna uma nova cópia do DataFrame com a coluna removida, sem alterar o DataFrame original a menos que inplace=True seja especificado.\n",
    "dataframe.drop('coluna2', axis=1)\n"
   ],
   "id": "d3e365dac4f7d785",
   "outputs": [
    {
     "data": {
      "text/plain": [
       "         coluna1   coluna4   soma1+2\n",
       "linha1  0.344133  0.860656  1.450174\n",
       "linha2  0.022126 -0.572490 -0.654657\n",
       "linha3 -1.484410  1.289502 -3.009095\n",
       "linha4  0.201673  0.577722 -0.132910\n",
       "linha5  0.078063 -1.332718 -0.458477"
      ],
      "text/html": [
       "<div>\n",
       "<style scoped>\n",
       "    .dataframe tbody tr th:only-of-type {\n",
       "        vertical-align: middle;\n",
       "    }\n",
       "\n",
       "    .dataframe tbody tr th {\n",
       "        vertical-align: top;\n",
       "    }\n",
       "\n",
       "    .dataframe thead th {\n",
       "        text-align: right;\n",
       "    }\n",
       "</style>\n",
       "<table border=\"1\" class=\"dataframe\">\n",
       "  <thead>\n",
       "    <tr style=\"text-align: right;\">\n",
       "      <th></th>\n",
       "      <th>coluna1</th>\n",
       "      <th>coluna4</th>\n",
       "      <th>soma1+2</th>\n",
       "    </tr>\n",
       "  </thead>\n",
       "  <tbody>\n",
       "    <tr>\n",
       "      <th>linha1</th>\n",
       "      <td>0.344133</td>\n",
       "      <td>0.860656</td>\n",
       "      <td>1.450174</td>\n",
       "    </tr>\n",
       "    <tr>\n",
       "      <th>linha2</th>\n",
       "      <td>0.022126</td>\n",
       "      <td>-0.572490</td>\n",
       "      <td>-0.654657</td>\n",
       "    </tr>\n",
       "    <tr>\n",
       "      <th>linha3</th>\n",
       "      <td>-1.484410</td>\n",
       "      <td>1.289502</td>\n",
       "      <td>-3.009095</td>\n",
       "    </tr>\n",
       "    <tr>\n",
       "      <th>linha4</th>\n",
       "      <td>0.201673</td>\n",
       "      <td>0.577722</td>\n",
       "      <td>-0.132910</td>\n",
       "    </tr>\n",
       "    <tr>\n",
       "      <th>linha5</th>\n",
       "      <td>0.078063</td>\n",
       "      <td>-1.332718</td>\n",
       "      <td>-0.458477</td>\n",
       "    </tr>\n",
       "  </tbody>\n",
       "</table>\n",
       "</div>"
      ]
     },
     "execution_count": 46,
     "metadata": {},
     "output_type": "execute_result"
    }
   ],
   "execution_count": 46
  },
  {
   "metadata": {
    "ExecuteTime": {
     "end_time": "2024-08-04T23:16:25.164891Z",
     "start_time": "2024-08-04T23:16:25.157236Z"
    }
   },
   "cell_type": "code",
   "source": "print(dataframe)",
   "id": "66a798e9af999256",
   "outputs": [
    {
     "name": "stdout",
     "output_type": "stream",
     "text": [
      "         coluna1   coluna2   coluna4   soma1+2\n",
      "linha1  0.344133  1.106041  0.860656  1.450174\n",
      "linha2  0.022126 -0.676783 -0.572490 -0.654657\n",
      "linha3 -1.484410 -1.524685  1.289502 -3.009095\n",
      "linha4  0.201673 -0.334583  0.577722 -0.132910\n",
      "linha5  0.078063 -0.536541 -1.332718 -0.458477\n"
     ]
    }
   ],
   "execution_count": 47
  },
  {
   "metadata": {
    "ExecuteTime": {
     "end_time": "2024-08-04T23:16:26.239626Z",
     "start_time": "2024-08-04T23:16:26.232809Z"
    }
   },
   "cell_type": "code",
   "source": [
    "dataframe.drop('coluna2', axis=1, inplace=True) # Removendo a coluna2 do dataframe original.\n",
    "print(dataframe)"
   ],
   "id": "5f39c733a0fd3d94",
   "outputs": [
    {
     "name": "stdout",
     "output_type": "stream",
     "text": [
      "         coluna1   coluna4   soma1+2\n",
      "linha1  0.344133  0.860656  1.450174\n",
      "linha2  0.022126 -0.572490 -0.654657\n",
      "linha3 -1.484410  1.289502 -3.009095\n",
      "linha4  0.201673  0.577722 -0.132910\n",
      "linha5  0.078063 -1.332718 -0.458477\n"
     ]
    }
   ],
   "execution_count": 48
  },
  {
   "metadata": {
    "ExecuteTime": {
     "end_time": "2024-08-04T23:25:22.082006Z",
     "start_time": "2024-08-04T23:25:22.071677Z"
    }
   },
   "cell_type": "code",
   "source": [
    "# Exibindo os dados da linha com rótulo 'linha1' usando .loc Os dados são exibidos transpostos. \n",
    "print(dataframe.loc['linha1'])\n",
    "print('-'*30)\n",
    "\n",
    "# Exibindo os dados das linhas com rótulos 'linha2' e 'linha3' usando .loc\n",
    "print(dataframe.loc[['linha2', 'linha3']])\n",
    "print('-'*30)\n",
    "\n",
    "# Exibindo os dados da segunda linha (índice 1) usando .iloc\n",
    "print(dataframe.iloc[1:2])\n"
   ],
   "id": "d2a8a855b9be58d6",
   "outputs": [
    {
     "name": "stdout",
     "output_type": "stream",
     "text": [
      "coluna1    0.344133\n",
      "coluna4    0.860656\n",
      "soma1+2    1.450174\n",
      "Name: linha1, dtype: float64\n",
      "------------------------------\n",
      "         coluna1   coluna4   soma1+2\n",
      "linha2  0.022126 -0.572490 -0.654657\n",
      "linha3 -1.484410  1.289502 -3.009095\n",
      "------------------------------\n",
      "         coluna1  coluna4   soma1+2\n",
      "linha2  0.022126 -0.57249 -0.654657\n"
     ]
    }
   ],
   "execution_count": 52
  },
  {
   "metadata": {},
   "cell_type": "code",
   "outputs": [],
   "execution_count": null,
   "source": "",
   "id": "242301e85fd8a3b8"
  }
 ],
 "metadata": {
  "kernelspec": {
   "display_name": "Python 3",
   "language": "python",
   "name": "python3"
  },
  "language_info": {
   "codemirror_mode": {
    "name": "ipython",
    "version": 2
   },
   "file_extension": ".py",
   "mimetype": "text/x-python",
   "name": "python",
   "nbconvert_exporter": "python",
   "pygments_lexer": "ipython2",
   "version": "2.7.6"
  }
 },
 "nbformat": 4,
 "nbformat_minor": 5
}
