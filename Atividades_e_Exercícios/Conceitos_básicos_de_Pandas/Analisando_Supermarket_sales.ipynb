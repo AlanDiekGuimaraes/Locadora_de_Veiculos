{
 "cells": [
  {
   "metadata": {},
   "cell_type": "markdown",
   "source": "# Explorando o Dataset Supermarket Sales",
   "id": "1e3f7203472e54af"
  },
  {
   "metadata": {
    "ExecuteTime": {
     "end_time": "2024-08-12T17:03:37.290757Z",
     "start_time": "2024-08-12T17:03:37.265416Z"
    }
   },
   "cell_type": "code",
   "source": [
    "import pandas as pd  # Importa a biblioteca pandas, que é usada para manipulação e análise de dados.\n",
    "\n",
    "df_data = pd.read_csv('Datasets/supermarket_sales.csv')  \n",
    "# Lê o arquivo CSV localizado no caminho 'Datasets/supermarket_sales.csv' e armazena os dados em um DataFrame chamado df_data.\n",
    "\n",
    "print(df_data)  # Exibe todo o conteúdo do DataFrame df_data no console\n"
   ],
   "id": "initial_id",
   "outputs": [
    {
     "name": "stdout",
     "output_type": "stream",
     "text": [
      "      Invoice ID Branch       City Customer type  Gender  \\\n",
      "0    750-67-8428      A     Yangon        Member  Female   \n",
      "1    226-31-3081      C  Naypyitaw        Normal  Female   \n",
      "2    631-41-3108      A     Yangon        Normal    Male   \n",
      "3    123-19-1176      A     Yangon        Member    Male   \n",
      "4    373-73-7910      A     Yangon        Normal    Male   \n",
      "..           ...    ...        ...           ...     ...   \n",
      "995  233-67-5758      C  Naypyitaw        Normal    Male   \n",
      "996  303-96-2227      B   Mandalay        Normal  Female   \n",
      "997  727-02-1313      A     Yangon        Member    Male   \n",
      "998  347-56-2442      A     Yangon        Normal    Male   \n",
      "999  849-09-3807      A     Yangon        Member  Female   \n",
      "\n",
      "               Product line  Unit price  Quantity   Tax 5%      Total  \\\n",
      "0         Health and beauty       74.69         7  26.1415   548.9715   \n",
      "1    Electronic accessories       15.28         5   3.8200    80.2200   \n",
      "2        Home and lifestyle       46.33         7  16.2155   340.5255   \n",
      "3         Health and beauty       58.22         8  23.2880   489.0480   \n",
      "4         Sports and travel       86.31         7  30.2085   634.3785   \n",
      "..                      ...         ...       ...      ...        ...   \n",
      "995       Health and beauty       40.35         1   2.0175    42.3675   \n",
      "996      Home and lifestyle       97.38        10  48.6900  1022.4900   \n",
      "997      Food and beverages       31.84         1   1.5920    33.4320   \n",
      "998      Home and lifestyle       65.82         1   3.2910    69.1110   \n",
      "999     Fashion accessories       88.34         7  30.9190   649.2990   \n",
      "\n",
      "          Date   Time      Payment    cogs  gross margin percentage  \\\n",
      "0     1/5/2019  13:08      Ewallet  522.83                 4.761905   \n",
      "1     3/8/2019  10:29         Cash   76.40                 4.761905   \n",
      "2     3/3/2019  13:23  Credit card  324.31                 4.761905   \n",
      "3    1/27/2019  20:33      Ewallet  465.76                 4.761905   \n",
      "4     2/8/2019  10:37      Ewallet  604.17                 4.761905   \n",
      "..         ...    ...          ...     ...                      ...   \n",
      "995  1/29/2019  13:46      Ewallet   40.35                 4.761905   \n",
      "996   3/2/2019  17:16      Ewallet  973.80                 4.761905   \n",
      "997   2/9/2019  13:22         Cash   31.84                 4.761905   \n",
      "998  2/22/2019  15:33         Cash   65.82                 4.761905   \n",
      "999  2/18/2019  13:28         Cash  618.38                 4.761905   \n",
      "\n",
      "     gross income  Rating  \n",
      "0         26.1415     9.1  \n",
      "1          3.8200     9.6  \n",
      "2         16.2155     7.4  \n",
      "3         23.2880     8.4  \n",
      "4         30.2085     5.3  \n",
      "..            ...     ...  \n",
      "995        2.0175     6.2  \n",
      "996       48.6900     4.4  \n",
      "997        1.5920     7.7  \n",
      "998        3.2910     4.1  \n",
      "999       30.9190     6.6  \n",
      "\n",
      "[1000 rows x 17 columns]\n"
     ]
    }
   ],
   "execution_count": 32
  },
  {
   "metadata": {},
   "cell_type": "markdown",
   "source": "### 1. Qual o faturamento total por filial?",
   "id": "37d32907c2e6223c"
  },
  {
   "metadata": {
    "ExecuteTime": {
     "end_time": "2024-08-12T16:58:19.209165Z",
     "start_time": "2024-08-12T16:58:19.196518Z"
    }
   },
   "cell_type": "code",
   "source": [
    "# Agrupa os dados por cidade, calcula a soma das colunas 'Total' e 'gross income' para cada cidade,\n",
    "# e organiza o resultado em ordem alfabética pelo nome da cidade.\n",
    "(df_data.groupby('City')[['Total', 'gross income']].sum()).sort_values('City')\n"
   ],
   "id": "85afdd98cd6ba37d",
   "outputs": [
    {
     "data": {
      "text/plain": [
       "                 Total  gross income\n",
       "City                                \n",
       "Mandalay   106197.6720     5057.0320\n",
       "Naypyitaw  110568.7065     5265.1765\n",
       "Yangon     106200.3705     5057.1605"
      ],
      "text/html": [
       "<div>\n",
       "<style scoped>\n",
       "    .dataframe tbody tr th:only-of-type {\n",
       "        vertical-align: middle;\n",
       "    }\n",
       "\n",
       "    .dataframe tbody tr th {\n",
       "        vertical-align: top;\n",
       "    }\n",
       "\n",
       "    .dataframe thead th {\n",
       "        text-align: right;\n",
       "    }\n",
       "</style>\n",
       "<table border=\"1\" class=\"dataframe\">\n",
       "  <thead>\n",
       "    <tr style=\"text-align: right;\">\n",
       "      <th></th>\n",
       "      <th>Total</th>\n",
       "      <th>gross income</th>\n",
       "    </tr>\n",
       "    <tr>\n",
       "      <th>City</th>\n",
       "      <th></th>\n",
       "      <th></th>\n",
       "    </tr>\n",
       "  </thead>\n",
       "  <tbody>\n",
       "    <tr>\n",
       "      <th>Mandalay</th>\n",
       "      <td>106197.6720</td>\n",
       "      <td>5057.0320</td>\n",
       "    </tr>\n",
       "    <tr>\n",
       "      <th>Naypyitaw</th>\n",
       "      <td>110568.7065</td>\n",
       "      <td>5265.1765</td>\n",
       "    </tr>\n",
       "    <tr>\n",
       "      <th>Yangon</th>\n",
       "      <td>106200.3705</td>\n",
       "      <td>5057.1605</td>\n",
       "    </tr>\n",
       "  </tbody>\n",
       "</table>\n",
       "</div>"
      ]
     },
     "execution_count": 30,
     "metadata": {},
     "output_type": "execute_result"
    }
   ],
   "execution_count": 30
  },
  {
   "metadata": {},
   "cell_type": "markdown",
   "source": "### 2. Qual o percentual de participação na receita de cada tipo de produto?",
   "id": "7feaab999e44cc0d"
  },
  {
   "metadata": {
    "ExecuteTime": {
     "end_time": "2024-08-12T16:32:19.267292Z",
     "start_time": "2024-08-12T16:32:19.254634Z"
    }
   },
   "cell_type": "code",
   "source": [
    "# Calcula a participação percentual do total de vendas para cada linha de produto, dividindo o total de vendas por produto\n",
    "# pelo total geral de vendas, ordenando em ordem decrescente e multiplicando por 100 para obter a porcentagem.\n",
    "(df_data.groupby('Product line')['Total'].sum() / df_data.groupby('Product line')['Total'].sum().sum()).sort_values(ascending=False) * 100\n"
   ],
   "id": "214d9df073b01fd8",
   "outputs": [
    {
     "data": {
      "text/plain": [
       "Product line\n",
       "Food and beverages        17.384094\n",
       "Sports and travel         17.067648\n",
       "Electronic accessories    16.824497\n",
       "Fashion accessories       16.814702\n",
       "Home and lifestyle        16.677232\n",
       "Health and beauty         15.231828\n",
       "Name: Total, dtype: float64"
      ]
     },
     "execution_count": 12,
     "metadata": {},
     "output_type": "execute_result"
    }
   ],
   "execution_count": 12
  },
  {
   "metadata": {},
   "cell_type": "markdown",
   "source": "### 3. Como está distribuído o tipo de produto consumido por gênero? ",
   "id": "75db7c83ca9885a8"
  },
  {
   "metadata": {
    "ExecuteTime": {
     "end_time": "2024-08-12T16:41:46.445724Z",
     "start_time": "2024-08-12T16:41:46.419930Z"
    }
   },
   "cell_type": "code",
   "source": [
    "# Agrupa os dados por linha de produto e gênero, somando os totais de vendas para cada combinação. Em seguida, \n",
    "# reorganiza os dados em uma tabela dinâmica onde as linhas representam as linhas de produto e as colunas representam os gêneros.\n",
    "df_data.groupby(['Product line', 'Gender'])[['Total']].sum().pivot_table(index= 'Product line', columns='Gender')\n"
   ],
   "id": "e07d5183cb2769e0",
   "outputs": [
    {
     "data": {
      "text/plain": [
       "                             Total            \n",
       "Gender                      Female        Male\n",
       "Product line                                  \n",
       "Electronic accessories  27102.0225  27235.5090\n",
       "Fashion accessories     30437.4000  23868.4950\n",
       "Food and beverages      33170.9175  22973.9265\n",
       "Health and beauty       18560.9865  30632.7525\n",
       "Home and lifestyle      30036.8775  23825.0355\n",
       "Sports and travel       28574.7210  26548.1055"
      ],
      "text/html": [
       "<div>\n",
       "<style scoped>\n",
       "    .dataframe tbody tr th:only-of-type {\n",
       "        vertical-align: middle;\n",
       "    }\n",
       "\n",
       "    .dataframe tbody tr th {\n",
       "        vertical-align: top;\n",
       "    }\n",
       "\n",
       "    .dataframe thead tr th {\n",
       "        text-align: left;\n",
       "    }\n",
       "\n",
       "    .dataframe thead tr:last-of-type th {\n",
       "        text-align: right;\n",
       "    }\n",
       "</style>\n",
       "<table border=\"1\" class=\"dataframe\">\n",
       "  <thead>\n",
       "    <tr>\n",
       "      <th></th>\n",
       "      <th colspan=\"2\" halign=\"left\">Total</th>\n",
       "    </tr>\n",
       "    <tr>\n",
       "      <th>Gender</th>\n",
       "      <th>Female</th>\n",
       "      <th>Male</th>\n",
       "    </tr>\n",
       "    <tr>\n",
       "      <th>Product line</th>\n",
       "      <th></th>\n",
       "      <th></th>\n",
       "    </tr>\n",
       "  </thead>\n",
       "  <tbody>\n",
       "    <tr>\n",
       "      <th>Electronic accessories</th>\n",
       "      <td>27102.0225</td>\n",
       "      <td>27235.5090</td>\n",
       "    </tr>\n",
       "    <tr>\n",
       "      <th>Fashion accessories</th>\n",
       "      <td>30437.4000</td>\n",
       "      <td>23868.4950</td>\n",
       "    </tr>\n",
       "    <tr>\n",
       "      <th>Food and beverages</th>\n",
       "      <td>33170.9175</td>\n",
       "      <td>22973.9265</td>\n",
       "    </tr>\n",
       "    <tr>\n",
       "      <th>Health and beauty</th>\n",
       "      <td>18560.9865</td>\n",
       "      <td>30632.7525</td>\n",
       "    </tr>\n",
       "    <tr>\n",
       "      <th>Home and lifestyle</th>\n",
       "      <td>30036.8775</td>\n",
       "      <td>23825.0355</td>\n",
       "    </tr>\n",
       "    <tr>\n",
       "      <th>Sports and travel</th>\n",
       "      <td>28574.7210</td>\n",
       "      <td>26548.1055</td>\n",
       "    </tr>\n",
       "  </tbody>\n",
       "</table>\n",
       "</div>"
      ]
     },
     "execution_count": 23,
     "metadata": {},
     "output_type": "execute_result"
    }
   ],
   "execution_count": 23
  },
  {
   "metadata": {},
   "cell_type": "markdown",
   "source": "### 4. Qual foi o faturamento por mês?",
   "id": "8a4843cc96cbca3b"
  },
  {
   "metadata": {
    "ExecuteTime": {
     "end_time": "2024-08-12T16:48:10.423505Z",
     "start_time": "2024-08-12T16:48:10.405147Z"
    }
   },
   "cell_type": "code",
   "source": [
    "# Converte a coluna 'Date' para o tipo datetime, facilitando a manipulação de datas.\n",
    "df_data['Date'] = pd.to_datetime(df_data['Date'])\n",
    "\n",
    "# Cria uma nova coluna 'Month' extraindo o mês de cada data na coluna 'Date'.\n",
    "df_data['Month'] = df_data['Date'].apply(lambda x: x.month)\n",
    "\n",
    "# Cria uma nova coluna 'Year' extraindo o ano de cada data na coluna 'Date'.\n",
    "df_data['Year'] = df_data['Date'].apply(lambda x: x.year)\n",
    "\n",
    "# Agrupa os dados por mês ('Month') e soma os valores da coluna 'Total' para cada mês.\n",
    "df_data.groupby(['Month'])['Total'].sum()\n"
   ],
   "id": "a62750e3d43b37f9",
   "outputs": [
    {
     "data": {
      "text/plain": [
       "Month\n",
       "1    116291.868\n",
       "2     97219.374\n",
       "3    109455.507\n",
       "Name: Total, dtype: float64"
      ]
     },
     "execution_count": 26,
     "metadata": {},
     "output_type": "execute_result"
    }
   ],
   "execution_count": 26
  },
  {
   "metadata": {},
   "cell_type": "markdown",
   "source": "### 5. Qual foi a média de avalização por cada filial em janeiro de 2019?",
   "id": "286ba20091e44afc"
  },
  {
   "metadata": {
    "ExecuteTime": {
     "end_time": "2024-08-12T17:02:01.440316Z",
     "start_time": "2024-08-12T17:02:01.430935Z"
    }
   },
   "cell_type": "code",
   "source": [
    "# Filtra o DataFrame para selecionar apenas as linhas do ano de 2019 e do mês de janeiro (mês 1),\n",
    "# e, em seguida, calcula a média dos valores na coluna 'Rating' para esse período específico.\n",
    "df_data[(df_data['Year'] == 2019) & (df_data['Month'] == 1)]['Rating'].mean()\n"
   ],
   "id": "b92435cacc4e3fb9",
   "outputs": [
    {
     "data": {
      "text/plain": [
       "np.float64(7.017613636363635)"
      ]
     },
     "execution_count": 31,
     "metadata": {},
     "output_type": "execute_result"
    }
   ],
   "execution_count": 31
  },
  {
   "metadata": {},
   "cell_type": "markdown",
   "source": "### 6. Como se distribui o gasto por tipo de consumidor em cada filial? ",
   "id": "65a09ce99532c1b1"
  },
  {
   "metadata": {
    "ExecuteTime": {
     "end_time": "2024-08-12T16:52:48.759853Z",
     "start_time": "2024-08-12T16:52:48.749240Z"
    }
   },
   "cell_type": "code",
   "source": [
    "# Agrupa os dados por 'Customer type' (tipo de cliente) e 'City' (cidade),\n",
    "# depois soma os valores na coluna 'Total' para cada combinação de tipo de cliente e cidade.\n",
    "df_data.groupby(['Customer type', 'City'])['Total'].sum()\n"
   ],
   "id": "a7240f468d51072f",
   "outputs": [
    {
     "data": {
      "text/plain": [
       "Customer type  City     \n",
       "Member         Mandalay     53704.6860\n",
       "               Naypyitaw    56881.2825\n",
       "               Yangon       53637.4755\n",
       "Normal         Mandalay     52492.9860\n",
       "               Naypyitaw    53687.4240\n",
       "               Yangon       52562.8950\n",
       "Name: Total, dtype: float64"
      ]
     },
     "execution_count": 28,
     "metadata": {},
     "output_type": "execute_result"
    }
   ],
   "execution_count": 28
  },
  {
   "metadata": {},
   "cell_type": "code",
   "outputs": [],
   "execution_count": null,
   "source": "",
   "id": "c435603ea275e0db"
  }
 ],
 "metadata": {
  "kernelspec": {
   "display_name": "Python 3",
   "language": "python",
   "name": "python3"
  },
  "language_info": {
   "codemirror_mode": {
    "name": "ipython",
    "version": 2
   },
   "file_extension": ".py",
   "mimetype": "text/x-python",
   "name": "python",
   "nbconvert_exporter": "python",
   "pygments_lexer": "ipython2",
   "version": "2.7.6"
  }
 },
 "nbformat": 4,
 "nbformat_minor": 5
}
